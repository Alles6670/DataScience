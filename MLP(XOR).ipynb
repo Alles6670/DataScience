{
 "cells": [
  {
   "cell_type": "code",
   "execution_count": 1,
   "metadata": {
    "ExecuteTime": {
     "end_time": "2020-11-16T13:34:44.703779Z",
     "start_time": "2020-11-16T13:34:43.826453Z"
    }
   },
   "outputs": [],
   "source": [
    "import numpy as np\n",
    "import pandas as pd\n",
    "from matplotlib import pyplot as plt"
   ]
  },
  {
   "cell_type": "markdown",
   "metadata": {},
   "source": [
    "# 함수 정의"
   ]
  },
  {
   "cell_type": "code",
   "execution_count": 3,
   "metadata": {
    "ExecuteTime": {
     "end_time": "2020-11-16T13:35:23.053587Z",
     "start_time": "2020-11-16T13:35:23.050629Z"
    }
   },
   "outputs": [],
   "source": [
    "#시그모이드 정의\n",
    "def sigmoid(x):\n",
    "    return 1/(1+ np.exp(-x))\n",
    "#시그모이드의 미분 정의\n",
    "def def_sigmoid(x):\n",
    "    return x * (1 - x)"
   ]
  },
  {
   "cell_type": "markdown",
   "metadata": {},
   "source": [
    "# 변수 선언 및 행렬 생성"
   ]
  },
  {
   "cell_type": "code",
   "execution_count": 7,
   "metadata": {
    "ExecuteTime": {
     "end_time": "2020-11-16T13:44:53.191314Z",
     "start_time": "2020-11-16T13:44:53.184678Z"
    }
   },
   "outputs": [
    {
     "data": {
      "text/plain": [
       "array([[0, 0],\n",
       "       [0, 1],\n",
       "       [1, 0],\n",
       "       [1, 1]])"
      ]
     },
     "execution_count": 7,
     "metadata": {},
     "output_type": "execute_result"
    }
   ],
   "source": [
    "# 입력값과 출력값\n",
    "x1 = np.array([0, 0, 1, 1])\n",
    "x2 = np.array([0, 1, 0, 1])\n",
    "y = np.array([[0], [1], [1], [0]])\n",
    "#인풋 생성\n",
    "X = []\n",
    "for i in range(0, 4):\n",
    "    temp = [x1[i], x2[i]]\n",
    "    X.append(temp)\n",
    "X = np.array(X)\n",
    "X"
   ]
  },
  {
   "cell_type": "markdown",
   "metadata": {},
   "source": [
    "# XOR 구현"
   ]
  },
  {
   "cell_type": "code",
   "execution_count": 31,
   "metadata": {
    "ExecuteTime": {
     "end_time": "2020-11-16T16:00:12.450760Z",
     "start_time": "2020-11-16T16:00:11.571898Z"
    }
   },
   "outputs": [
    {
     "name": "stdout",
     "output_type": "stream",
     "text": [
      "### First Weight & bias ###\n",
      "[w11] : 0.837354 [w21] : 0.128559 \n",
      "\n",
      "[w21] : 0.128559 [w22] : 0.768939 \n",
      "\n",
      "[w31] : 0.145408 [w32] : 0.574317 \n",
      "\n",
      "[bias1] : 0.774729 [bias2] : 0.717399 [bias3] : 0.453556\n",
      "\n",
      " #### 결과그래프 ####\n",
      "\n"
     ]
    },
    {
     "data": {
      "image/png": "[encoded data removed]",
      "text/plain": [
       "<Figure size 432x288 with 1 Axes>"
      ]
     },
     "metadata": {
      "needs_background": "light"
     },
     "output_type": "display_data"
    },
    {
     "data": {
      "image/png": "[encoded data removed]",
      "text/plain": [
       "<Figure size 432x288 with 1 Axes>"
      ]
     },
     "metadata": {
      "needs_background": "light"
     },
     "output_type": "display_data"
    },
    {
     "name": "stdout",
     "output_type": "stream",
     "text": [
      "#####Final Output######\n",
      " --> [0.06091422] [0.93218317] [0.93218905] [0.07516947]\n",
      "\n",
      "#####Final Weights & Bias#####\n",
      "\n",
      "[w11] : 3.411871 [w12] : 3.411322 \n",
      "\n",
      "[w21] : 7.864695 [w22] : 7.863060 \n",
      "\n",
      "[w31] : -8.043852 [w32] : 3.411322 \n",
      "\n",
      "[bias1] : -5.097661 [bias2] : -5.154991 [bias3] : -2.727140\n"
     ]
    }
   ],
   "source": [
    "# 학습 횟수와 learning rate 설정\n",
    "learning_rate = 0.1\n",
    "epoch = 10000\n",
    "\n",
    "#에러 및 횟수 저장\n",
    "epochs = []\n",
    "errors = []\n",
    "# 초기 가중치와 편향 설정을 위한 난수 생성\n",
    "bias1 = np.random.uniform(0, 1)\n",
    "bias2 = np.random.uniform(0,1)\n",
    "bias3 = np.random.uniform(0,1)\n",
    "\n",
    "w11 = np.random.uniform(0, 1)\n",
    "w21 = np.random.uniform(0, 1)\n",
    "w12 = np.random.uniform(0, 1)\n",
    "w22 = np.random.uniform(0, 1)\n",
    "\n",
    "w31 = np.random.uniform(0, 1)\n",
    "w32 = np.random.uniform(0, 1)\n",
    "\n",
    "print(\"### First Weight & bias ###\")\n",
    "print(\"[w11] : %f [w21] : %f \\n\" %(w11, w21))\n",
    "print(\"[w21] : %f [w22] : %f \\n\" %(w21, w22))\n",
    "print(\"[w31] : %f [w32] : %f \\n\" %(w31, w32))\n",
    "print(\"[bias1] : %f [bias2] : %f [bias3] : %f\" %(bias1, bias2, bias3))\n",
    "\n",
    "# 행렬 연산을 위해 행렬 생성\n",
    "bias_to_hidden = np.array([[bias1, bias2]])\n",
    "bias_to_output = np.array([[bias3]])\n",
    "\n",
    "weight_to_hidden = np.array([[w11, w21], [w12, w22]])\n",
    "weight_to_output = np.array([[w31], [w32]])\n",
    "\n",
    "for i in range(0, epoch):\n",
    "    epochs.append(i)\n",
    "    # Forwardpropagation\n",
    "    z2 = np.dot(X, weight_to_hidden) + bias_to_hidden\n",
    "    s2 = sigmoid(z2)\n",
    "    \n",
    "    z3 = np.dot(s2, weight_to_output) + bias_to_output\n",
    "    output = sigmoid(z3)\n",
    "    \n",
    "    error = (y - output)**2 / 2\n",
    "    errors.append(np.sum(error))\n",
    "    \n",
    "    # Backpropagation\n",
    "    gradient_bias2 = (output - y) * def_sigmoid(output)\n",
    "    gradient_w3 = s2.T.dot((output - y) * def_sigmoid(output))\n",
    "    gradient_bias1 = (((output - y) * def_sigmoid(output)).dot(weight_to_output.T)) * def_sigmoid(s2)\n",
    "    gradient_w2 = X.T.dot((((output - y) * def_sigmoid(output)).dot(weight_to_output.T)) * def_sigmoid(s2))\n",
    "    \n",
    "    # 가중치 및 편향 조정\n",
    "    bias_to_output = bias_to_output - np.sum(gradient_bias2)\n",
    "    weight_to_output = weight_to_output - learning_rate * gradient_w3\n",
    "    bias_to_hidden = bias_to_hidden - np.sum(gradient_bias1)\n",
    "    weight_to_hidden = weight_to_hidden - learning_rate * gradient_w2\n",
    "    \n",
    "print(\"\\n #### 결과그래프 ####\\n\")\n",
    "plt.plot(epochs, errors)       \n",
    "plt.title('Error')\n",
    "plt.ylabel('error')\n",
    "plt.xlabel('epochs')\n",
    "plt.legend(['error', 'epochs'], loc = 'upper left')\n",
    "plt.show()\n",
    "\n",
    "plt.scatter(x1, output, color = 'red', label = 'output')\n",
    "plt.scatter(x1, y, color = 'blue', label = 'real_data')\n",
    "plt.grid()\n",
    "plt.legend(loc = 'best')\n",
    "plt.show()\n",
    "\n",
    "#최종 가중치 저장 및 결과 값 출력\n",
    "bias1 = bias_to_hidden[0][0]\n",
    "bias2 = bias_to_hidden[0][1]\n",
    "bias3 = bias_to_output[0][0]\n",
    "\n",
    "w11 = weight_to_hidden[0][0]\n",
    "w21 = weight_to_hidden[0][1]\n",
    "w12 = weight_to_hidden[1][0]\n",
    "w22 = weight_to_hidden[1][1]\n",
    "\n",
    "w31 = weight_to_output[0][0]\n",
    "w32 = weight_to_hidden[1][0]\n",
    "print(\"#####Final Output######\\n -->\", *output)\n",
    "print(\"\\n#####Final Weights & Bias#####\\n\")\n",
    "print(\"[w11] : %f [w12] : %f \\n\" %(w11, w12))\n",
    "print(\"[w21] : %f [w22] : %f \\n\" %(w21, w22))\n",
    "print(\"[w31] : %f [w32] : %f \\n\" %(w31, w32))\n",
    "print(\"[bias1] : %f [bias2] : %f [bias3] : %f\" %(bias1, bias2, bias3))"
   ]
  },
  {
   "cell_type": "code",
   "execution_count": null,
   "metadata": {},
   "outputs": [],
   "source": []
  }
 ],
 "metadata": {
  "kernelspec": {
   "display_name": "Python 3",
   "language": "python",
   "name": "python3"
  },
  "language_info": {
   "codemirror_mode": {
    "name": "ipython",
    "version": 3
   },
   "file_extension": ".py",
   "mimetype": "text/x-python",
   "name": "python",
   "nbconvert_exporter": "python",
   "pygments_lexer": "ipython3",
   "version": "3.8.5"
  },
  "toc": {
   "base_numbering": 1,
   "nav_menu": {},
   "number_sections": true,
   "sideBar": true,
   "skip_h1_title": false,
   "title_cell": "Table of Contents",
   "title_sidebar": "Contents",
   "toc_cell": false,
   "toc_position": {},
   "toc_section_display": true,
   "toc_window_display": false
  }
 },
 "nbformat": 4,
 "nbformat_minor": 4
}
