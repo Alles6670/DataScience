{
 "cells": [
  {
   "cell_type": "code",
   "execution_count": 7,
   "metadata": {
    "ExecuteTime": {
     "end_time": "2020-11-16T15:14:37.881747Z",
     "start_time": "2020-11-16T15:14:37.879092Z"
    }
   },
   "outputs": [],
   "source": [
    "import numpy as np\n",
    "import pandas as pd\n",
    "from matplotlib import pyplot as plt\n",
    "from collections import Counter"
   ]
  },
  {
   "cell_type": "markdown",
   "metadata": {},
   "source": [
    "# 함수 정의"
   ]
  },
  {
   "cell_type": "code",
   "execution_count": 15,
   "metadata": {
    "ExecuteTime": {
     "end_time": "2020-11-16T15:18:30.463563Z",
     "start_time": "2020-11-16T15:18:30.460648Z"
    }
   },
   "outputs": [],
   "source": [
    "def tanh(x):\n",
    "    return (np.exp(x) - np.exp(-x))/(np.exp(x) + np.exp(-x))\n",
    "def def_tanh(x):\n",
    "    return 1 - (x**2)"
   ]
  },
  {
   "cell_type": "code",
   "execution_count": 16,
   "metadata": {
    "ExecuteTime": {
     "end_time": "2020-11-16T15:18:30.905318Z",
     "start_time": "2020-11-16T15:18:30.902993Z"
    }
   },
   "outputs": [],
   "source": [
    "def linear(x):\n",
    "    return x\n",
    "def def_linear(x):\n",
    "    return 1"
   ]
  },
  {
   "cell_type": "markdown",
   "metadata": {},
   "source": [
    "# 데이터 불러오기 및 전처리"
   ]
  },
  {
   "cell_type": "code",
   "execution_count": 2,
   "metadata": {
    "ExecuteTime": {
     "end_time": "2020-11-16T15:12:06.913040Z",
     "start_time": "2020-11-16T15:12:06.894723Z"
    }
   },
   "outputs": [
    {
     "data": {
      "text/html": [
       "<div>\n",
       "<style scoped>\n",
       "    .dataframe tbody tr th:only-of-type {\n",
       "        vertical-align: middle;\n",
       "    }\n",
       "\n",
       "    .dataframe tbody tr th {\n",
       "        vertical-align: top;\n",
       "    }\n",
       "\n",
       "    .dataframe thead th {\n",
       "        text-align: right;\n",
       "    }\n",
       "</style>\n",
       "<table border=\"1\" class=\"dataframe\">\n",
       "  <thead>\n",
       "    <tr style=\"text-align: right;\">\n",
       "      <th></th>\n",
       "      <th>-3.245269596</th>\n",
       "      <th>-0.97375032</th>\n",
       "    </tr>\n",
       "  </thead>\n",
       "  <tbody>\n",
       "    <tr>\n",
       "      <th>0</th>\n",
       "      <td>2.377048</td>\n",
       "      <td>-0.745718</td>\n",
       "    </tr>\n",
       "    <tr>\n",
       "      <th>1</th>\n",
       "      <td>0.368537</td>\n",
       "      <td>0.949275</td>\n",
       "    </tr>\n",
       "    <tr>\n",
       "      <th>2</th>\n",
       "      <td>1.725189</td>\n",
       "      <td>-0.125650</td>\n",
       "    </tr>\n",
       "    <tr>\n",
       "      <th>3</th>\n",
       "      <td>-1.443666</td>\n",
       "      <td>0.142073</td>\n",
       "    </tr>\n",
       "    <tr>\n",
       "      <th>4</th>\n",
       "      <td>-4.929794</td>\n",
       "      <td>0.211627</td>\n",
       "    </tr>\n",
       "    <tr>\n",
       "      <th>...</th>\n",
       "      <td>...</td>\n",
       "      <td>...</td>\n",
       "    </tr>\n",
       "    <tr>\n",
       "      <th>4994</th>\n",
       "      <td>2.759167</td>\n",
       "      <td>-0.934015</td>\n",
       "    </tr>\n",
       "    <tr>\n",
       "      <th>4995</th>\n",
       "      <td>4.402311</td>\n",
       "      <td>-0.296167</td>\n",
       "    </tr>\n",
       "    <tr>\n",
       "      <th>4996</th>\n",
       "      <td>-4.700185</td>\n",
       "      <td>-0.018308</td>\n",
       "    </tr>\n",
       "    <tr>\n",
       "      <th>4997</th>\n",
       "      <td>-4.631617</td>\n",
       "      <td>-0.070405</td>\n",
       "    </tr>\n",
       "    <tr>\n",
       "      <th>4998</th>\n",
       "      <td>-0.101608</td>\n",
       "      <td>0.961612</td>\n",
       "    </tr>\n",
       "  </tbody>\n",
       "</table>\n",
       "<p>4999 rows × 2 columns</p>\n",
       "</div>"
      ],
      "text/plain": [
       "      -3.245269596  -0.97375032\n",
       "0         2.377048    -0.745718\n",
       "1         0.368537     0.949275\n",
       "2         1.725189    -0.125650\n",
       "3        -1.443666     0.142073\n",
       "4        -4.929794     0.211627\n",
       "...            ...          ...\n",
       "4994      2.759167    -0.934015\n",
       "4995      4.402311    -0.296167\n",
       "4996     -4.700185    -0.018308\n",
       "4997     -4.631617    -0.070405\n",
       "4998     -0.101608     0.961612\n",
       "\n",
       "[4999 rows x 2 columns]"
      ]
     },
     "execution_count": 2,
     "metadata": {},
     "output_type": "execute_result"
    }
   ],
   "source": [
    "trn = pd.read_csv('./hw2_data.csv')\n",
    "trn"
   ]
  },
  {
   "cell_type": "code",
   "execution_count": 110,
   "metadata": {
    "ExecuteTime": {
     "end_time": "2020-11-16T17:26:47.173179Z",
     "start_time": "2020-11-16T17:26:47.161775Z"
    }
   },
   "outputs": [
    {
     "data": {
      "text/html": [
       "<div>\n",
       "<style scoped>\n",
       "    .dataframe tbody tr th:only-of-type {\n",
       "        vertical-align: middle;\n",
       "    }\n",
       "\n",
       "    .dataframe tbody tr th {\n",
       "        vertical-align: top;\n",
       "    }\n",
       "\n",
       "    .dataframe thead th {\n",
       "        text-align: right;\n",
       "    }\n",
       "</style>\n",
       "<table border=\"1\" class=\"dataframe\">\n",
       "  <thead>\n",
       "    <tr style=\"text-align: right;\">\n",
       "      <th></th>\n",
       "      <th>x</th>\n",
       "    </tr>\n",
       "  </thead>\n",
       "  <tbody>\n",
       "    <tr>\n",
       "      <th>0</th>\n",
       "      <td>2.377048</td>\n",
       "    </tr>\n",
       "    <tr>\n",
       "      <th>1</th>\n",
       "      <td>0.368537</td>\n",
       "    </tr>\n",
       "    <tr>\n",
       "      <th>2</th>\n",
       "      <td>1.725189</td>\n",
       "    </tr>\n",
       "    <tr>\n",
       "      <th>3</th>\n",
       "      <td>-1.443666</td>\n",
       "    </tr>\n",
       "    <tr>\n",
       "      <th>4</th>\n",
       "      <td>-4.929794</td>\n",
       "    </tr>\n",
       "    <tr>\n",
       "      <th>...</th>\n",
       "      <td>...</td>\n",
       "    </tr>\n",
       "    <tr>\n",
       "      <th>4994</th>\n",
       "      <td>2.759167</td>\n",
       "    </tr>\n",
       "    <tr>\n",
       "      <th>4995</th>\n",
       "      <td>4.402311</td>\n",
       "    </tr>\n",
       "    <tr>\n",
       "      <th>4996</th>\n",
       "      <td>-4.700185</td>\n",
       "    </tr>\n",
       "    <tr>\n",
       "      <th>4997</th>\n",
       "      <td>-4.631617</td>\n",
       "    </tr>\n",
       "    <tr>\n",
       "      <th>4998</th>\n",
       "      <td>-0.101608</td>\n",
       "    </tr>\n",
       "  </tbody>\n",
       "</table>\n",
       "<p>4999 rows × 1 columns</p>\n",
       "</div>"
      ],
      "text/plain": [
       "             x\n",
       "0     2.377048\n",
       "1     0.368537\n",
       "2     1.725189\n",
       "3    -1.443666\n",
       "4    -4.929794\n",
       "...        ...\n",
       "4994  2.759167\n",
       "4995  4.402311\n",
       "4996 -4.700185\n",
       "4997 -4.631617\n",
       "4998 -0.101608\n",
       "\n",
       "[4999 rows x 1 columns]"
      ]
     },
     "execution_count": 110,
     "metadata": {},
     "output_type": "execute_result"
    }
   ],
   "source": [
    "trn['x'] = trn['-3.245269596']\n",
    "trn['y'] = trn['-0.97375032']\n",
    "temp_x = pd.DataFrame(trn['x'], columns = ['x'])\n",
    "temp_y = pd.DataFrame(trn['y'], columns = ['y'])\n",
    "temp_x"
   ]
  },
  {
   "cell_type": "code",
   "execution_count": 111,
   "metadata": {
    "ExecuteTime": {
     "end_time": "2020-11-16T17:26:48.946877Z",
     "start_time": "2020-11-16T17:26:48.937016Z"
    }
   },
   "outputs": [
    {
     "data": {
      "text/html": [
       "<div>\n",
       "<style scoped>\n",
       "    .dataframe tbody tr th:only-of-type {\n",
       "        vertical-align: middle;\n",
       "    }\n",
       "\n",
       "    .dataframe tbody tr th {\n",
       "        vertical-align: top;\n",
       "    }\n",
       "\n",
       "    .dataframe thead th {\n",
       "        text-align: right;\n",
       "    }\n",
       "</style>\n",
       "<table border=\"1\" class=\"dataframe\">\n",
       "  <thead>\n",
       "    <tr style=\"text-align: right;\">\n",
       "      <th></th>\n",
       "      <th>x</th>\n",
       "    </tr>\n",
       "  </thead>\n",
       "  <tbody>\n",
       "    <tr>\n",
       "      <th>0</th>\n",
       "      <td>2.377048</td>\n",
       "    </tr>\n",
       "    <tr>\n",
       "      <th>1</th>\n",
       "      <td>0.368537</td>\n",
       "    </tr>\n",
       "    <tr>\n",
       "      <th>2</th>\n",
       "      <td>1.725189</td>\n",
       "    </tr>\n",
       "    <tr>\n",
       "      <th>3</th>\n",
       "      <td>-1.443666</td>\n",
       "    </tr>\n",
       "    <tr>\n",
       "      <th>4</th>\n",
       "      <td>-4.929794</td>\n",
       "    </tr>\n",
       "    <tr>\n",
       "      <th>...</th>\n",
       "      <td>...</td>\n",
       "    </tr>\n",
       "    <tr>\n",
       "      <th>4995</th>\n",
       "      <td>4.402311</td>\n",
       "    </tr>\n",
       "    <tr>\n",
       "      <th>4996</th>\n",
       "      <td>-4.700185</td>\n",
       "    </tr>\n",
       "    <tr>\n",
       "      <th>4997</th>\n",
       "      <td>-4.631617</td>\n",
       "    </tr>\n",
       "    <tr>\n",
       "      <th>4998</th>\n",
       "      <td>-0.101608</td>\n",
       "    </tr>\n",
       "    <tr>\n",
       "      <th>4999</th>\n",
       "      <td>-3.245270</td>\n",
       "    </tr>\n",
       "  </tbody>\n",
       "</table>\n",
       "<p>5000 rows × 1 columns</p>\n",
       "</div>"
      ],
      "text/plain": [
       "             x\n",
       "0     2.377048\n",
       "1     0.368537\n",
       "2     1.725189\n",
       "3    -1.443666\n",
       "4    -4.929794\n",
       "...        ...\n",
       "4995  4.402311\n",
       "4996 -4.700185\n",
       "4997 -4.631617\n",
       "4998 -0.101608\n",
       "4999 -3.245270\n",
       "\n",
       "[5000 rows x 1 columns]"
      ]
     },
     "execution_count": 111,
     "metadata": {},
     "output_type": "execute_result"
    }
   ],
   "source": [
    "temp = {'x': -3.245269596}\n",
    "temp_x = temp_x.append(temp, ignore_index = True)\n",
    "temp_x"
   ]
  },
  {
   "cell_type": "code",
   "execution_count": 112,
   "metadata": {
    "ExecuteTime": {
     "end_time": "2020-11-16T17:26:49.466246Z",
     "start_time": "2020-11-16T17:26:49.456949Z"
    }
   },
   "outputs": [
    {
     "data": {
      "text/html": [
       "<div>\n",
       "<style scoped>\n",
       "    .dataframe tbody tr th:only-of-type {\n",
       "        vertical-align: middle;\n",
       "    }\n",
       "\n",
       "    .dataframe tbody tr th {\n",
       "        vertical-align: top;\n",
       "    }\n",
       "\n",
       "    .dataframe thead th {\n",
       "        text-align: right;\n",
       "    }\n",
       "</style>\n",
       "<table border=\"1\" class=\"dataframe\">\n",
       "  <thead>\n",
       "    <tr style=\"text-align: right;\">\n",
       "      <th></th>\n",
       "      <th>y</th>\n",
       "    </tr>\n",
       "  </thead>\n",
       "  <tbody>\n",
       "    <tr>\n",
       "      <th>0</th>\n",
       "      <td>-0.745718</td>\n",
       "    </tr>\n",
       "    <tr>\n",
       "      <th>1</th>\n",
       "      <td>0.949275</td>\n",
       "    </tr>\n",
       "    <tr>\n",
       "      <th>2</th>\n",
       "      <td>-0.125650</td>\n",
       "    </tr>\n",
       "    <tr>\n",
       "      <th>3</th>\n",
       "      <td>0.142073</td>\n",
       "    </tr>\n",
       "    <tr>\n",
       "      <th>4</th>\n",
       "      <td>0.211627</td>\n",
       "    </tr>\n",
       "    <tr>\n",
       "      <th>...</th>\n",
       "      <td>...</td>\n",
       "    </tr>\n",
       "    <tr>\n",
       "      <th>4995</th>\n",
       "      <td>-0.296167</td>\n",
       "    </tr>\n",
       "    <tr>\n",
       "      <th>4996</th>\n",
       "      <td>-0.018308</td>\n",
       "    </tr>\n",
       "    <tr>\n",
       "      <th>4997</th>\n",
       "      <td>-0.070405</td>\n",
       "    </tr>\n",
       "    <tr>\n",
       "      <th>4998</th>\n",
       "      <td>0.961612</td>\n",
       "    </tr>\n",
       "    <tr>\n",
       "      <th>4999</th>\n",
       "      <td>-0.973750</td>\n",
       "    </tr>\n",
       "  </tbody>\n",
       "</table>\n",
       "<p>5000 rows × 1 columns</p>\n",
       "</div>"
      ],
      "text/plain": [
       "             y\n",
       "0    -0.745718\n",
       "1     0.949275\n",
       "2    -0.125650\n",
       "3     0.142073\n",
       "4     0.211627\n",
       "...        ...\n",
       "4995 -0.296167\n",
       "4996 -0.018308\n",
       "4997 -0.070405\n",
       "4998  0.961612\n",
       "4999 -0.973750\n",
       "\n",
       "[5000 rows x 1 columns]"
      ]
     },
     "execution_count": 112,
     "metadata": {},
     "output_type": "execute_result"
    }
   ],
   "source": [
    "temp = {'y': -0.97375032}\n",
    "temp_y = temp_y.append(temp, ignore_index = True)\n",
    "temp_y"
   ]
  },
  {
   "cell_type": "code",
   "execution_count": 113,
   "metadata": {
    "ExecuteTime": {
     "end_time": "2020-11-16T17:26:50.338494Z",
     "start_time": "2020-11-16T17:26:50.331791Z"
    }
   },
   "outputs": [],
   "source": [
    "#데이터 스케일링 전, 이상치를 탐색한다\n",
    "\n",
    "def outliers(target, n, features):\n",
    "    outlier = []\n",
    "    for i in features:\n",
    "        Q1 = np.percentile(target[i], 25)\n",
    "        Q3 = np.percentile(target[i], 75)\n",
    "        IQR = Q3 - Q1\n",
    "        \n",
    "        restrict = 1.5 * IQR\n",
    "        outlier_list_col = target[(target[i] < Q1 - restrict) | (target[i] > Q3 + restrict)].index\n",
    "        outlier.extend(outlier_list_col)\n",
    "    outlier = Counter(outlier)\n",
    "    multiple_outliers = list(k for k, v in outlier.items() if v > n)\n",
    "    \n",
    "    return multiple_outliers\n",
    "outlier_to_drop = outliers(temp_x, 1, ['x'])"
   ]
  },
  {
   "cell_type": "code",
   "execution_count": 114,
   "metadata": {
    "ExecuteTime": {
     "end_time": "2020-11-16T17:26:50.583159Z",
     "start_time": "2020-11-16T17:26:50.576777Z"
    }
   },
   "outputs": [
    {
     "data": {
      "text/html": [
       "<div>\n",
       "<style scoped>\n",
       "    .dataframe tbody tr th:only-of-type {\n",
       "        vertical-align: middle;\n",
       "    }\n",
       "\n",
       "    .dataframe tbody tr th {\n",
       "        vertical-align: top;\n",
       "    }\n",
       "\n",
       "    .dataframe thead th {\n",
       "        text-align: right;\n",
       "    }\n",
       "</style>\n",
       "<table border=\"1\" class=\"dataframe\">\n",
       "  <thead>\n",
       "    <tr style=\"text-align: right;\">\n",
       "      <th></th>\n",
       "      <th>x</th>\n",
       "    </tr>\n",
       "  </thead>\n",
       "  <tbody>\n",
       "  </tbody>\n",
       "</table>\n",
       "</div>"
      ],
      "text/plain": [
       "Empty DataFrame\n",
       "Columns: [x]\n",
       "Index: []"
      ]
     },
     "execution_count": 114,
     "metadata": {},
     "output_type": "execute_result"
    }
   ],
   "source": [
    "temp_x.loc[outlier_to_drop]"
   ]
  },
  {
   "cell_type": "code",
   "execution_count": 115,
   "metadata": {
    "ExecuteTime": {
     "end_time": "2020-11-16T17:26:50.914228Z",
     "start_time": "2020-11-16T17:26:50.903513Z"
    }
   },
   "outputs": [
    {
     "data": {
      "text/html": [
       "<div>\n",
       "<style scoped>\n",
       "    .dataframe tbody tr th:only-of-type {\n",
       "        vertical-align: middle;\n",
       "    }\n",
       "\n",
       "    .dataframe tbody tr th {\n",
       "        vertical-align: top;\n",
       "    }\n",
       "\n",
       "    .dataframe thead th {\n",
       "        text-align: right;\n",
       "    }\n",
       "</style>\n",
       "<table border=\"1\" class=\"dataframe\">\n",
       "  <thead>\n",
       "    <tr style=\"text-align: right;\">\n",
       "      <th></th>\n",
       "      <th>x</th>\n",
       "      <th>x2</th>\n",
       "    </tr>\n",
       "  </thead>\n",
       "  <tbody>\n",
       "    <tr>\n",
       "      <th>0</th>\n",
       "      <td>2.377048</td>\n",
       "      <td>0.737650</td>\n",
       "    </tr>\n",
       "    <tr>\n",
       "      <th>1</th>\n",
       "      <td>0.368537</td>\n",
       "      <td>0.536706</td>\n",
       "    </tr>\n",
       "    <tr>\n",
       "      <th>2</th>\n",
       "      <td>1.725189</td>\n",
       "      <td>0.672434</td>\n",
       "    </tr>\n",
       "    <tr>\n",
       "      <th>3</th>\n",
       "      <td>-1.443666</td>\n",
       "      <td>0.355401</td>\n",
       "    </tr>\n",
       "    <tr>\n",
       "      <th>4</th>\n",
       "      <td>-4.929794</td>\n",
       "      <td>0.006627</td>\n",
       "    </tr>\n",
       "    <tr>\n",
       "      <th>...</th>\n",
       "      <td>...</td>\n",
       "      <td>...</td>\n",
       "    </tr>\n",
       "    <tr>\n",
       "      <th>4995</th>\n",
       "      <td>4.402311</td>\n",
       "      <td>0.940270</td>\n",
       "    </tr>\n",
       "    <tr>\n",
       "      <th>4996</th>\n",
       "      <td>-4.700185</td>\n",
       "      <td>0.029599</td>\n",
       "    </tr>\n",
       "    <tr>\n",
       "      <th>4997</th>\n",
       "      <td>-4.631617</td>\n",
       "      <td>0.036459</td>\n",
       "    </tr>\n",
       "    <tr>\n",
       "      <th>4998</th>\n",
       "      <td>-0.101608</td>\n",
       "      <td>0.489669</td>\n",
       "    </tr>\n",
       "    <tr>\n",
       "      <th>4999</th>\n",
       "      <td>-3.245270</td>\n",
       "      <td>0.175158</td>\n",
       "    </tr>\n",
       "  </tbody>\n",
       "</table>\n",
       "<p>5000 rows × 2 columns</p>\n",
       "</div>"
      ],
      "text/plain": [
       "             x        x2\n",
       "0     2.377048  0.737650\n",
       "1     0.368537  0.536706\n",
       "2     1.725189  0.672434\n",
       "3    -1.443666  0.355401\n",
       "4    -4.929794  0.006627\n",
       "...        ...       ...\n",
       "4995  4.402311  0.940270\n",
       "4996 -4.700185  0.029599\n",
       "4997 -4.631617  0.036459\n",
       "4998 -0.101608  0.489669\n",
       "4999 -3.245270  0.175158\n",
       "\n",
       "[5000 rows x 2 columns]"
      ]
     },
     "execution_count": 115,
     "metadata": {},
     "output_type": "execute_result"
    }
   ],
   "source": [
    "# 새로운 피쳐 생성 (기존 x1 데이터를 표준화)\n",
    "temp_x['x2'] = (temp_x['x'] - temp_x['x'].min()) / (temp_x['x'].max() - temp_x['x'].min())\n",
    "temp_x"
   ]
  },
  {
   "cell_type": "code",
   "execution_count": 116,
   "metadata": {
    "ExecuteTime": {
     "end_time": "2020-11-16T17:26:51.195456Z",
     "start_time": "2020-11-16T17:26:51.185430Z"
    }
   },
   "outputs": [
    {
     "data": {
      "text/html": [
       "<div>\n",
       "<style scoped>\n",
       "    .dataframe tbody tr th:only-of-type {\n",
       "        vertical-align: middle;\n",
       "    }\n",
       "\n",
       "    .dataframe tbody tr th {\n",
       "        vertical-align: top;\n",
       "    }\n",
       "\n",
       "    .dataframe thead th {\n",
       "        text-align: right;\n",
       "    }\n",
       "</style>\n",
       "<table border=\"1\" class=\"dataframe\">\n",
       "  <thead>\n",
       "    <tr style=\"text-align: right;\">\n",
       "      <th></th>\n",
       "      <th>x</th>\n",
       "      <th>x2</th>\n",
       "    </tr>\n",
       "  </thead>\n",
       "  <tbody>\n",
       "    <tr>\n",
       "      <th>0</th>\n",
       "      <td>2.377048</td>\n",
       "      <td>0.823129</td>\n",
       "    </tr>\n",
       "    <tr>\n",
       "      <th>1</th>\n",
       "      <td>0.368537</td>\n",
       "      <td>0.121872</td>\n",
       "    </tr>\n",
       "    <tr>\n",
       "      <th>2</th>\n",
       "      <td>1.725189</td>\n",
       "      <td>0.595537</td>\n",
       "    </tr>\n",
       "    <tr>\n",
       "      <th>3</th>\n",
       "      <td>-1.443666</td>\n",
       "      <td>-0.510845</td>\n",
       "    </tr>\n",
       "    <tr>\n",
       "      <th>4</th>\n",
       "      <td>-4.929794</td>\n",
       "      <td>-1.728001</td>\n",
       "    </tr>\n",
       "    <tr>\n",
       "      <th>...</th>\n",
       "      <td>...</td>\n",
       "      <td>...</td>\n",
       "    </tr>\n",
       "    <tr>\n",
       "      <th>4995</th>\n",
       "      <td>4.402311</td>\n",
       "      <td>1.530235</td>\n",
       "    </tr>\n",
       "    <tr>\n",
       "      <th>4996</th>\n",
       "      <td>-4.700185</td>\n",
       "      <td>-1.647835</td>\n",
       "    </tr>\n",
       "    <tr>\n",
       "      <th>4997</th>\n",
       "      <td>-4.631617</td>\n",
       "      <td>-1.623895</td>\n",
       "    </tr>\n",
       "    <tr>\n",
       "      <th>4998</th>\n",
       "      <td>-0.101608</td>\n",
       "      <td>-0.042276</td>\n",
       "    </tr>\n",
       "    <tr>\n",
       "      <th>4999</th>\n",
       "      <td>-3.245270</td>\n",
       "      <td>-1.139862</td>\n",
       "    </tr>\n",
       "  </tbody>\n",
       "</table>\n",
       "<p>5000 rows × 2 columns</p>\n",
       "</div>"
      ],
      "text/plain": [
       "             x        x2\n",
       "0     2.377048  0.823129\n",
       "1     0.368537  0.121872\n",
       "2     1.725189  0.595537\n",
       "3    -1.443666 -0.510845\n",
       "4    -4.929794 -1.728001\n",
       "...        ...       ...\n",
       "4995  4.402311  1.530235\n",
       "4996 -4.700185 -1.647835\n",
       "4997 -4.631617 -1.623895\n",
       "4998 -0.101608 -0.042276\n",
       "4999 -3.245270 -1.139862\n",
       "\n",
       "[5000 rows x 2 columns]"
      ]
     },
     "execution_count": 116,
     "metadata": {},
     "output_type": "execute_result"
    }
   ],
   "source": [
    "#또 다른 방법\n",
    "temp_x['x2'] = (temp_x['x'] - temp_x['x'].mean()) / temp_x['x'].std()\n",
    "temp_x"
   ]
  },
  {
   "cell_type": "code",
   "execution_count": 117,
   "metadata": {
    "ExecuteTime": {
     "end_time": "2020-11-16T17:26:52.251098Z",
     "start_time": "2020-11-16T17:26:52.240940Z"
    }
   },
   "outputs": [
    {
     "data": {
      "text/html": [
       "<div>\n",
       "<style scoped>\n",
       "    .dataframe tbody tr th:only-of-type {\n",
       "        vertical-align: middle;\n",
       "    }\n",
       "\n",
       "    .dataframe tbody tr th {\n",
       "        vertical-align: top;\n",
       "    }\n",
       "\n",
       "    .dataframe thead th {\n",
       "        text-align: right;\n",
       "    }\n",
       "</style>\n",
       "<table border=\"1\" class=\"dataframe\">\n",
       "  <thead>\n",
       "    <tr style=\"text-align: right;\">\n",
       "      <th></th>\n",
       "      <th>x</th>\n",
       "      <th>x2</th>\n",
       "    </tr>\n",
       "  </thead>\n",
       "  <tbody>\n",
       "    <tr>\n",
       "      <th>0</th>\n",
       "      <td>2.377048</td>\n",
       "      <td>0.823129</td>\n",
       "    </tr>\n",
       "    <tr>\n",
       "      <th>1</th>\n",
       "      <td>0.368537</td>\n",
       "      <td>0.121872</td>\n",
       "    </tr>\n",
       "    <tr>\n",
       "      <th>2</th>\n",
       "      <td>1.725189</td>\n",
       "      <td>0.595537</td>\n",
       "    </tr>\n",
       "    <tr>\n",
       "      <th>3</th>\n",
       "      <td>-1.443666</td>\n",
       "      <td>-0.510845</td>\n",
       "    </tr>\n",
       "    <tr>\n",
       "      <th>4</th>\n",
       "      <td>-4.929794</td>\n",
       "      <td>-1.728001</td>\n",
       "    </tr>\n",
       "    <tr>\n",
       "      <th>...</th>\n",
       "      <td>...</td>\n",
       "      <td>...</td>\n",
       "    </tr>\n",
       "    <tr>\n",
       "      <th>4995</th>\n",
       "      <td>4.402311</td>\n",
       "      <td>1.530235</td>\n",
       "    </tr>\n",
       "    <tr>\n",
       "      <th>4996</th>\n",
       "      <td>-4.700185</td>\n",
       "      <td>-1.647835</td>\n",
       "    </tr>\n",
       "    <tr>\n",
       "      <th>4997</th>\n",
       "      <td>-4.631617</td>\n",
       "      <td>-1.623895</td>\n",
       "    </tr>\n",
       "    <tr>\n",
       "      <th>4998</th>\n",
       "      <td>-0.101608</td>\n",
       "      <td>-0.042276</td>\n",
       "    </tr>\n",
       "    <tr>\n",
       "      <th>4999</th>\n",
       "      <td>-3.245270</td>\n",
       "      <td>-1.139862</td>\n",
       "    </tr>\n",
       "  </tbody>\n",
       "</table>\n",
       "<p>5000 rows × 2 columns</p>\n",
       "</div>"
      ],
      "text/plain": [
       "             x        x2\n",
       "0     2.377048  0.823129\n",
       "1     0.368537  0.121872\n",
       "2     1.725189  0.595537\n",
       "3    -1.443666 -0.510845\n",
       "4    -4.929794 -1.728001\n",
       "...        ...       ...\n",
       "4995  4.402311  1.530235\n",
       "4996 -4.700185 -1.647835\n",
       "4997 -4.631617 -1.623895\n",
       "4998 -0.101608 -0.042276\n",
       "4999 -3.245270 -1.139862\n",
       "\n",
       "[5000 rows x 2 columns]"
      ]
     },
     "execution_count": 117,
     "metadata": {},
     "output_type": "execute_result"
    }
   ],
   "source": [
    "temp_x['x2'] = (temp_x['x'] - temp_x['x'].mean()) / temp_x['x'].std()\n",
    "temp_x"
   ]
  },
  {
   "cell_type": "markdown",
   "metadata": {},
   "source": [
    "# 변수 선언 및 행렬 생성"
   ]
  },
  {
   "cell_type": "code",
   "execution_count": 118,
   "metadata": {
    "ExecuteTime": {
     "end_time": "2020-11-16T17:26:53.199322Z",
     "start_time": "2020-11-16T17:26:53.098208Z"
    }
   },
   "outputs": [],
   "source": [
    "x1 = temp_x['x']\n",
    "x2 = temp_x['x2']\n",
    "Y = temp_y['y']\n",
    "\n",
    "#인풋 생성\n",
    "X = []\n",
    "for i in range(0, 5000):\n",
    "    temp = [x1[i], x2[i]]\n",
    "    X.append(temp)\n",
    "X = np.array(X)\n",
    "y = []\n",
    "for i in range(0, 5000):\n",
    "    temp = [Y[i]]\n",
    "    y.append(temp)\n",
    "y = np.array(y)"
   ]
  },
  {
   "cell_type": "code",
   "execution_count": 119,
   "metadata": {
    "ExecuteTime": {
     "end_time": "2020-11-16T17:26:53.905126Z",
     "start_time": "2020-11-16T17:26:53.901248Z"
    }
   },
   "outputs": [
    {
     "data": {
      "text/plain": [
       "array([[ 2.37704815,  0.82312895],\n",
       "       [ 0.36853675,  0.12187208],\n",
       "       [ 1.72518879,  0.59553709],\n",
       "       ...,\n",
       "       [-4.63161724, -1.62389462],\n",
       "       [-0.10160824, -0.04227556],\n",
       "       [-3.2452696 , -1.13986161]])"
      ]
     },
     "execution_count": 119,
     "metadata": {},
     "output_type": "execute_result"
    }
   ],
   "source": [
    "X"
   ]
  },
  {
   "cell_type": "code",
   "execution_count": 120,
   "metadata": {
    "ExecuteTime": {
     "end_time": "2020-11-16T17:26:54.357677Z",
     "start_time": "2020-11-16T17:26:54.353746Z"
    }
   },
   "outputs": [
    {
     "data": {
      "text/plain": [
       "array([[-0.74571837],\n",
       "       [ 0.94927486],\n",
       "       [-0.12564982],\n",
       "       ...,\n",
       "       [-0.07040545],\n",
       "       [ 0.96161248],\n",
       "       [-0.97375032]])"
      ]
     },
     "execution_count": 120,
     "metadata": {},
     "output_type": "execute_result"
    }
   ],
   "source": [
    "y"
   ]
  },
  {
   "cell_type": "code",
   "execution_count": 121,
   "metadata": {
    "ExecuteTime": {
     "end_time": "2020-11-16T17:26:55.035332Z",
     "start_time": "2020-11-16T17:26:55.030841Z"
    }
   },
   "outputs": [
    {
     "data": {
      "text/plain": [
       "array([ 2.37704815,  0.36853675,  1.72518879, ..., -4.63161724,\n",
       "       -0.10160824, -3.2452696 ])"
      ]
     },
     "execution_count": 121,
     "metadata": {},
     "output_type": "execute_result"
    }
   ],
   "source": [
    "# 그래프 구현을 위한 작업\n",
    "x1 = np.array(x1)\n",
    "x1"
   ]
  },
  {
   "cell_type": "markdown",
   "metadata": {},
   "source": [
    "# 모델 구현 및 학습"
   ]
  },
  {
   "cell_type": "code",
   "execution_count": 124,
   "metadata": {
    "ExecuteTime": {
     "end_time": "2020-11-16T17:58:51.710006Z",
     "start_time": "2020-11-16T17:58:46.730344Z"
    }
   },
   "outputs": [
    {
     "name": "stdout",
     "output_type": "stream",
     "text": [
      "### First Weight & bias ###\n",
      "[w11] : 0.391845 [w21] : -0.524736 \n",
      "\n",
      "[w21] : -0.524736 [w22] : -0.568168 \n",
      "\n",
      "[w31] : -0.075788 [w32] : 0.911701 \n",
      "\n",
      "[bias1] : 0.005558 [bias2] : 0.002885 [bias3] : 0.448249\n",
      "[ 0 ] 회 ====[error]====\n",
      " [0.76109997]\n",
      "[ 1000 ] 회 ====[error]====\n",
      " [0.04018889]\n",
      "[ 2000 ] 회 ====[error]====\n",
      " [0.0396883]\n",
      "[ 3000 ] 회 ====[error]====\n",
      " [0.03955325]\n",
      "[ 4000 ] 회 ====[error]====\n",
      " [0.03950994]\n",
      "[ 5000 ] 회 ====[error]====\n",
      " [0.03949459]\n",
      "[ 6000 ] 회 ====[error]====\n",
      " [0.03948883]\n",
      "[ 7000 ] 회 ====[error]====\n",
      " [0.03948659]\n",
      "[ 8000 ] 회 ====[error]====\n",
      " [0.0394857]\n",
      "[ 9000 ] 회 ====[error]====\n",
      " [0.03948534]\n",
      "\n",
      " #### 결과그래프 ####\n",
      "\n"
     ]
    },
    {
     "data": {
      "image/png": "[encoded data removed]",
      "text/plain": [
       "<Figure size 432x288 with 1 Axes>"
      ]
     },
     "metadata": {
      "needs_background": "light"
     },
     "output_type": "display_data"
    },
    {
     "data": {
      "image/png": "[encoded data removed]",
      "text/plain": [
       "<Figure size 432x288 with 1 Axes>"
      ]
     },
     "metadata": {
      "needs_background": "light"
     },
     "output_type": "display_data"
    },
    {
     "name": "stdout",
     "output_type": "stream",
     "text": [
      "\n",
      "#####Final Weights & Bias#####\n",
      "\n",
      "[w11] : 1.276964 [w12] : 1.169382 \n",
      "\n",
      "[w21] : -1.385891 [w22] : -0.869525 \n",
      "\n",
      "[w31] : 0.791816 [w32] : 1.169382 \n",
      "\n",
      "[bias1] : 2.332913 [bias2] : 2.330239 [bias3] : -0.628868\n"
     ]
    }
   ],
   "source": [
    "# 학습 횟수와 learning rate 설정\n",
    "learning_rate = 0.1\n",
    "epoch = 10000\n",
    "\n",
    "#에러 및 횟수 저장\n",
    "epochs = []\n",
    "errors = []\n",
    "# 초기 가중치와 편향 설정을 위한 난수 생성\n",
    "bias1 = np.random.uniform(0, 1)\n",
    "bias2 = np.random.uniform(0,1)\n",
    "bias3 = np.random.uniform(0,1)\n",
    "\n",
    "w11 = np.random.uniform(-1, 1)\n",
    "w21 = np.random.uniform(-1, 1)\n",
    "w12 = np.random.uniform(-1, 1)\n",
    "w22 = np.random.uniform(-1, 1)\n",
    "\n",
    "w31 = np.random.uniform(-1, 1)\n",
    "w32 = np.random.uniform(-1, 1)\n",
    "\n",
    "print(\"### First Weight & bias ###\")\n",
    "print(\"[w11] : %f [w21] : %f \\n\" %(w11, w21))\n",
    "print(\"[w21] : %f [w22] : %f \\n\" %(w21, w22))\n",
    "print(\"[w31] : %f [w32] : %f \\n\" %(w31, w32))\n",
    "print(\"[bias1] : %f [bias2] : %f [bias3] : %f\" %(bias1, bias2, bias3))\n",
    "\n",
    "# 행렬 연산을 위해 행렬 생성\n",
    "bias_to_hidden = np.array([[bias1, bias2]])\n",
    "bias_to_output = np.array([[bias3]])\n",
    "\n",
    "weight_to_hidden = np.array([[w11, w21], [w12, w22]])\n",
    "weight_to_output = np.array([[w31], [w32]])\n",
    "\n",
    "for i in range(0, epoch):\n",
    "    epochs.append(i)\n",
    "    # Forwardpropagation\n",
    "    z2 = np.dot(X, weight_to_hidden) + bias_to_hidden\n",
    "    s2 = tanh(z2)\n",
    "\n",
    "    z3 = np.dot(s2, weight_to_output) + bias_to_output\n",
    "    output = linear(z3)\n",
    "\n",
    "    error = (y - output)**2 / 2\n",
    "    errors.append(np.sum(error))\n",
    "\n",
    "    if i % 1000 == 0:\n",
    "        print(\"[\", i, \"]\", \"회 ====[error]====\\n\", sum(error)/5000)\n",
    "        if sum(error)/5000 < 0.01 :\n",
    "            break\n",
    "    \n",
    "    # Backpropagation\n",
    "    gradient_bias2 = (output - y) * def_linear(output)\n",
    "    gradient_w3 = s2.T.dot((output - y) * def_linear(output))\n",
    "    gradient_bias1 = (((output - y) * def_linear(output)).dot(weight_to_output.T)) * def_tanh(s2)\n",
    "    gradient_w2 = X.T.dot((((output - y) * def_linear(output)).dot(weight_to_output.T)) * def_tanh(s2))\n",
    "    \n",
    "    # 가중치 및 편향 조정\n",
    "    bias_to_output = bias_to_output - np.sum(gradient_bias2)/5000\n",
    "    weight_to_output = weight_to_output - learning_rate * gradient_w3/5000\n",
    "    bias_to_hidden = bias_to_hidden - np.sum(gradient_bias1)/5000\n",
    "    weight_to_hidden = weight_to_hidden - learning_rate * gradient_w2/5000\n",
    "    \n",
    "    \n",
    "print(\"\\n #### 결과그래프 ####\\n\")\n",
    "plt.plot(epochs, errors)       \n",
    "plt.title('Error')\n",
    "plt.ylabel('error')\n",
    "plt.xlabel('epochs')\n",
    "plt.legend(['error', 'epochs'], loc = 'upper left')\n",
    "plt.show()\n",
    "\n",
    "plt.scatter(x1, output, color = 'red', label = 'output')\n",
    "plt.scatter(x1, y, color = 'blue', label = 'real_data')\n",
    "plt.grid()\n",
    "plt.legend(loc = 'best')\n",
    "plt.show()\n",
    "\n",
    "#최종 가중치 저장 및 결과 값 출력\n",
    "bias1 = bias_to_hidden[0][0]\n",
    "bias2 = bias_to_hidden[0][1]\n",
    "bias3 = bias_to_output[0][0]\n",
    "\n",
    "w11 = weight_to_hidden[0][0]\n",
    "w21 = weight_to_hidden[0][1]\n",
    "w12 = weight_to_hidden[1][0]\n",
    "w22 = weight_to_hidden[1][1]\n",
    "\n",
    "w31 = weight_to_output[0][0]\n",
    "w32 = weight_to_hidden[1][0]\n",
    "\n",
    "print(\"\\n#####Final Weights & Bias#####\\n\")\n",
    "print(\"[w11] : %f [w12] : %f \\n\" %(w11, w12))\n",
    "print(\"[w21] : %f [w22] : %f \\n\" %(w21, w22))\n",
    "print(\"[w31] : %f [w32] : %f \\n\" %(w31, w32))\n",
    "print(\"[bias1] : %f [bias2] : %f [bias3] : %f\" %(bias1, bias2, bias3))"
   ]
  },
  {
   "cell_type": "code",
   "execution_count": null,
   "metadata": {},
   "outputs": [],
   "source": []
  }
 ],
 "metadata": {
  "kernelspec": {
   "display_name": "Python 3",
   "language": "python",
   "name": "python3"
  },
  "language_info": {
   "codemirror_mode": {
    "name": "ipython",
    "version": 3
   },
   "file_extension": ".py",
   "mimetype": "text/x-python",
   "name": "python",
   "nbconvert_exporter": "python",
   "pygments_lexer": "ipython3",
   "version": "3.8.5"
  },
  "toc": {
   "base_numbering": 1,
   "nav_menu": {},
   "number_sections": true,
   "sideBar": true,
   "skip_h1_title": false,
   "title_cell": "Table of Contents",
   "title_sidebar": "Contents",
   "toc_cell": false,
   "toc_position": {},
   "toc_section_display": true,
   "toc_window_display": false
  }
 },
 "nbformat": 4,
 "nbformat_minor": 4
}
